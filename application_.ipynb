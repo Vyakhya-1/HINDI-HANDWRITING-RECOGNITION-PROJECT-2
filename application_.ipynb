{
 "cells": [
  {
   "cell_type": "code",
   "execution_count": 1,
   "metadata": {},
   "outputs": [
    {
     "name": "stderr",
     "output_type": "stream",
     "text": [
      "Using TensorFlow backend.\n"
     ]
    }
   ],
   "source": [
    "#loading the dependencies\n",
    "import cv2\n",
    "from keras.models import load_model\n",
    "import numpy as np #for matrix calculations\n",
    "from collections import deque"
   ]
  },
  {
   "cell_type": "code",
   "execution_count": 2,
   "metadata": {},
   "outputs": [
    {
     "name": "stdout",
     "output_type": "stream",
     "text": [
      "<keras.engine.sequential.Sequential object at 0x00000174F44EAFD0>\n"
     ]
    }
   ],
   "source": [
    "model1=load_model('devanagari.h5')\n",
    "print(model1) #loading the model"
   ]
  },
  {
   "cell_type": "code",
   "execution_count": 3,
   "metadata": {},
   "outputs": [],
   "source": [
    "letter_count={0:'CHECK', 1: '01_ka', 2: '02_kha', 3: '03_ga', 4: '04_gha', 5: '05_kna', 6: 'character_06_cha',\n",
    "                    7: '07_chha', 8: '08_ja', 9: '09_jha', 10: '10_yna',\n",
    "                    11: '11_taamatar',\n",
    "                    12: '12_thaa', 13: '13_daa', 14: '14_dhaa', 15: '15_adna', 16: '16_tabala', 17: '17_tha',\n",
    "                    18: '18_da',\n",
    "                    19: '19_dha', 20: '20_na', 21: '21_pa', 22: '22_pha',\n",
    "                    23: '23_ba',\n",
    "                    24: '24_bha', 25: '25_ma', 26: '26_yaw', 27: '27_ra', 28: '28_la', 29: '29_waw', 30: '30_motosaw',\n",
    "                    31: '31_petchiryakha',32: '32_patalosaw', 33: '33_ha',\n",
    "                    34: '34_chhya', 35: '35_tra', 36: '36_gya', 37:'CHECK'} #creating our dictionary"
   ]
  },
  {
   "cell_type": "code",
   "execution_count": 4,
   "metadata": {},
   "outputs": [],
   "source": [
    "def keras_predict(model, image):\n",
    "    processed=keras_process_image(image)\n",
    "    print(\"processed:\" +str(processed.shape))\n",
    "    pred_probab=model.predict(processed)[0]\n",
    "    pred_class=list(pred_probab).index(max(pred_probab))\n",
    "    return max(pred_probab), pred_class\n",
    "def keras_process_image(img):\n",
    "    image_x=32 #pixel sizes\n",
    "    image_y=32 \n",
    "    img=cv2.resize(img, (image_x, image_y))\n",
    "    img=np.array(img, dtype=np.float32) #converting into array\n",
    "    img=np.reshape(img, (-1, image_x, image_y, 1)) #reshaping array\n",
    "    return img #returning image"
   ]
  },
  {
   "cell_type": "code",
   "execution_count": null,
   "metadata": {},
   "outputs": [
    {
     "name": "stdout",
     "output_type": "stream",
     "text": [
      "1834.5\n",
      "4716.0\n",
      "processed:(1, 32, 32, 1)\n",
      "1.0 20\n"
     ]
    }
   ],
   "source": [
    "cap=cv2.VideoCapture(0) #capturing the image\n",
    "Lower_blue=np.array([110, 50, 50]) #detecting blue colour\n",
    "Upper_blue=np.array([130, 255, 255])\n",
    "pred_class=0\n",
    "pts=deque(maxlen=512)\n",
    "blackboard=np.zeros((480, 640, 3), dtype=np.uint8)\n",
    "digit=np.zeros((200, 200, 3), dtype=np.uint8)\n",
    "while(cap.isOpened()):\n",
    "    ret, img=cap.read() #reading image\n",
    "    img=cv2.flip(img, 1) #flipping image\n",
    "    imgHSV=cv2.cvtColor(img, cv2.COLOR_BGR2HSV)\n",
    "    mask=cv2.inRange(imgHSV, Lower_blue, Upper_blue)\n",
    "    blur=cv2.medianBlur(mask, 15)\n",
    "    blur=cv2.GaussianBlur(blur, (5, 5), 0)\n",
    "    thresh=cv2.threshold(blur, 0, 255, cv2.THRESH_BINARY+cv2.THRESH_OTSU)[1]\n",
    "    cnts=cv2.findContours(thresh.copy(), cv2.RETR_TREE, cv2.CHAIN_APPROX_NONE)[0]\n",
    "    center=None\n",
    "    if len(cnts)>=1:\n",
    "        contour=max(cnts, key=cv2.contourArea)\n",
    "        if cv2.contourArea(contour) > 250:\n",
    "            ((x, y), radius)=cv2.minEnclosingCircle(contour)\n",
    "            cv2.circle(img, (int(x), int(y)), int(radius), (0, 255, 255), 2)\n",
    "            cv2.circle(img, center, 5, (0, 0, 255), -1)\n",
    "            M=cv2.moments(contour)\n",
    "            center=(int(M['m10']/M['m00']), int(M['m01']/M['m00']))\n",
    "            pts.appendleft(center)\n",
    "            for i in range(1, len(pts)):\n",
    "                if pts[i-1] is None or pts[i] is None:\n",
    "                    continue\n",
    "                cv2.line(blackboard, pts[i-1], pts[i], (255, 255, 255), 10)\n",
    "                cv2.line(img, pts[i-1], pts[i], (0, 0, 255), 5)\n",
    "    elif len(cnts) == 0:\n",
    "        if len(pts)!=[]:\n",
    "            blackboard_gray=cv2.cvtColor(blackboard, cv2.COLOR_BGR2GRAY)\n",
    "            blur1=cv2.medianBlur(blackboard_gray, 15)\n",
    "            blur1=cv2.GaussianBlur(blur1, (5, 5), 0)\n",
    "            thresh1=cv2.threshold(blur1, 0, 255, cv2.THRESH_BINARY+cv2.THRESH_OTSU)[1]\n",
    "            blackboard_cnts=cv2.findContours(thresh1.copy(), cv2.RETR_TREE, cv2.CHAIN_APPROX_NONE)[0]\n",
    "            if len(blackboard_cnts)>=1:\n",
    "                cnt=max(blackboard_cnts, key=cv2.contourArea)\n",
    "                print(cv2.contourArea(cnt))\n",
    "                if cv2.contourArea(cnt)>2000:\n",
    "                    x, y, w, h=cv2.boundingRect(cnt)\n",
    "                    digit=blackboard_gray[y:y+h, x:x+w]\n",
    "                    pred_probab, pred_class=keras_predict(model1, digit)\n",
    "                    print(pred_probab, pred_class)\n",
    "        pts=deque(maxlen=512)\n",
    "        blackboard=np.zeros((480, 640, 3), dtype=np.uint8)\n",
    "    cv2.putText(img, \"Conv network:\" + str(letter_count[pred_class]), (10, 470), cv2.FONT_HERSHEY_SIMPLEX, 0.7, (0, 0, 255), 2)\n",
    "    cv2.imshow(\"frame\", img)\n",
    "    cv2.imshow(\"contours\", thresh)\n",
    "    k =cv2.waitKey(10)\n",
    "    if k==27:\n",
    "        break"
   ]
  }
 ],
 "metadata": {
  "kernelspec": {
   "display_name": "Python 3",
   "language": "python",
   "name": "python3"
  },
  "language_info": {
   "codemirror_mode": {
    "name": "ipython",
    "version": 3
   },
   "file_extension": ".py",
   "mimetype": "text/x-python",
   "name": "python",
   "nbconvert_exporter": "python",
   "pygments_lexer": "ipython3",
   "version": "3.6.7"
  }
 },
 "nbformat": 4,
 "nbformat_minor": 2
}
